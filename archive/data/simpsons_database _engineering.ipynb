{
 "cells": [
  {
   "cell_type": "code",
   "execution_count": 1,
   "metadata": {},
   "outputs": [],
   "source": [
    "!rm simpsons.sqlite\n",
    "import pandas as pd\n",
    "import sqlalchemy\n",
    "from sqlalchemy import create_engine, MetaData\n",
    "from sqlalchemy.ext.declarative import declarative_base\n",
    "from sqlalchemy import Column, String, Integer, Float, Text"
   ]
  },
  {
   "cell_type": "code",
   "execution_count": 2,
   "metadata": {
    "collapsed": true
   },
   "outputs": [],
   "source": [
    "url = 'simpsons_script_lines.csv'\n",
    "url_characters = 'simpsons_characters.csv'\n",
    "url_locations = 'simpsons_locations.csv'\n",
    "url_episodes = 'simpsons_episodes.csv'"
   ]
  },
  {
   "cell_type": "code",
   "execution_count": 3,
   "metadata": {},
   "outputs": [],
   "source": [
    "df_script = pd.read_csv(url, low_memory=False)\n",
    "df_characters = pd.read_csv(url_characters)\n",
    "df_locations = pd.read_csv(url_locations)\n",
    "df_episodes = pd.read_csv(url_episodes)"
   ]
  },
  {
   "cell_type": "code",
   "execution_count": 4,
   "metadata": {},
   "outputs": [
    {
     "data": {
      "text/plain": [
       "['id',\n",
       " 'episode_id',\n",
       " 'number',\n",
       " 'raw_text',\n",
       " 'timestamp_in_ms',\n",
       " 'speaking_line',\n",
       " 'character_id',\n",
       " 'location_id',\n",
       " 'raw_character_text',\n",
       " 'raw_location_text',\n",
       " 'spoken_words',\n",
       " 'normalized_text',\n",
       " 'word_count']"
      ]
     },
     "execution_count": 4,
     "metadata": {},
     "output_type": "execute_result"
    }
   ],
   "source": [
    "df_script.columns.tolist()"
   ]
  },
  {
   "cell_type": "code",
   "execution_count": 5,
   "metadata": {},
   "outputs": [
    {
     "data": {
      "text/plain": [
       "['id', 'name', 'normalized_name', 'gender']"
      ]
     },
     "execution_count": 5,
     "metadata": {},
     "output_type": "execute_result"
    }
   ],
   "source": [
    "df_characters.columns.tolist()"
   ]
  },
  {
   "cell_type": "code",
   "execution_count": 6,
   "metadata": {},
   "outputs": [
    {
     "data": {
      "text/plain": [
       "['id', 'name', 'normalized_name']"
      ]
     },
     "execution_count": 6,
     "metadata": {},
     "output_type": "execute_result"
    }
   ],
   "source": [
    "df_locations.columns.tolist()"
   ]
  },
  {
   "cell_type": "code",
   "execution_count": 7,
   "metadata": {},
   "outputs": [
    {
     "data": {
      "text/plain": [
       "['id',\n",
       " 'title',\n",
       " 'original_air_date',\n",
       " 'production_code',\n",
       " 'season',\n",
       " 'number_in_season',\n",
       " 'number_in_series',\n",
       " 'us_viewers_in_millions',\n",
       " 'views',\n",
       " 'imdb_rating',\n",
       " 'imdb_votes',\n",
       " 'image_url',\n",
       " 'video_url']"
      ]
     },
     "execution_count": 7,
     "metadata": {},
     "output_type": "execute_result"
    }
   ],
   "source": [
    "df_episodes.columns.tolist()"
   ]
  },
  {
   "cell_type": "code",
   "execution_count": 8,
   "metadata": {
    "collapsed": true
   },
   "outputs": [],
   "source": [
    "engine = create_engine(\"sqlite:///simpsons.sqlite\")\n",
    "Base = declarative_base(bind=engine)"
   ]
  },
  {
   "cell_type": "code",
   "execution_count": 9,
   "metadata": {
    "collapsed": true
   },
   "outputs": [],
   "source": [
    "class Scripts(Base):\n",
    "    __tablename__ = 'scripts'    \n",
    "    id = Column(Integer, primary_key=True)\n",
    "    episode_id = Column(Text)\n",
    "    number = Column(Text)\n",
    "    raw_text = Column(Text)\n",
    "    timestamp_in_ms = Column(Text)\n",
    "    speaking_line = Column(Text)\n",
    "    character_id = Column(Text)\n",
    "    location_id = Column(Text)\n",
    "    raw_character_text = Column(Text)\n",
    "    raw_location_text = Column(Text)\n",
    "    spoken_words = Column(Text)\n",
    "    normalized_text = Column(Text)\n",
    "    word_count = Column(Text)\n",
    "\n",
    "class Characters(Base):\n",
    "    __tablename__ = 'characters'\n",
    "    id = Column(Integer, primary_key=True)\n",
    "    name = Column(Text)\n",
    "    normalized_name = Column(Text)\n",
    "    gender = Column(Text)\n",
    "    \n",
    "class Locations(Base):\n",
    "    __tablename__ = 'locations'\n",
    "    id = Column(Integer, primary_key=True)\n",
    "    name = Column(Text)\n",
    "    normalized_name = Column(Text)\n",
    "    \n",
    "class Episodes(Base):\n",
    "    __tablename__ = 'episodes'\n",
    "    id = Column(Integer, primary_key=True)\n",
    "    title = Column(Text)\n",
    "    original_air_date = Column(Text)\n",
    "    production_code = Column(Text)\n",
    "    season = Column(Text)\n",
    "    number_in_season = Column(Text)\n",
    "    number_in_series = Column(Text)\n",
    "    us_viewers_in_millions = Column(Text)\n",
    "    views = Column(Text)\n",
    "    imdb_rating = Column(Text)\n",
    "    imdb_votes = Column(Text)\n",
    "    image_url = Column(Text)\n",
    "    video_url = Column(Text)"
   ]
  },
  {
   "cell_type": "code",
   "execution_count": 10,
   "metadata": {
    "collapsed": true
   },
   "outputs": [],
   "source": [
    "Base.metadata.create_all()"
   ]
  },
  {
   "cell_type": "code",
   "execution_count": 11,
   "metadata": {
    "collapsed": true
   },
   "outputs": [],
   "source": [
    "script_dict = df_script.to_dict(orient='records')\n",
    "location_dict = df_locations.to_dict(orient='records')\n",
    "character_dict = df_characters.to_dict(orient='records')\n",
    "episode_dict = df_episodes.to_dict(orient='records')"
   ]
  },
  {
   "cell_type": "code",
   "execution_count": 12,
   "metadata": {
    "collapsed": true
   },
   "outputs": [],
   "source": [
    "metadata = MetaData(bind=engine)\n",
    "metadata.reflect()"
   ]
  },
  {
   "cell_type": "code",
   "execution_count": 13,
   "metadata": {},
   "outputs": [
    {
     "data": {
      "text/plain": [
       "<sqlalchemy.engine.result.ResultProxy at 0x119b9e400>"
      ]
     },
     "execution_count": 13,
     "metadata": {},
     "output_type": "execute_result"
    }
   ],
   "source": [
    "script_table = sqlalchemy.Table('scripts', metadata, autoload=True)\n",
    "engine.execute(script_table.delete())\n",
    "engine.execute(script_table.insert(), script_dict)\n",
    "\n",
    "location_table = sqlalchemy.Table('locations', metadata, autoload=True)\n",
    "engine.execute(location_table.delete())\n",
    "engine.execute(location_table.insert(), location_dict)\n",
    "\n",
    "character_table = sqlalchemy.Table('characters', metadata, autoload=True)\n",
    "engine.execute(character_table.delete())\n",
    "engine.execute(character_table.insert(), character_dict)\n",
    "\n",
    "episode_table = sqlalchemy.Table('episodes', metadata, autoload=True)\n",
    "engine.execute(episode_table.delete())\n",
    "engine.execute(episode_table.insert(), episode_dict)"
   ]
  },
  {
   "cell_type": "code",
   "execution_count": 14,
   "metadata": {},
   "outputs": [
    {
     "data": {
      "text/plain": [
       "[(1, '1', '0', '(Street: ext. street - establishing - night)', '8000', 'FALSE', None, '1.0', None, 'Street', None, None, None),\n",
       " (2, '1', '1', '(Car: int. car - night)', '8000', 'FALSE', None, '2.0', None, 'Car', None, None, None),\n",
       " (3, '1', '2', 'Marge Simpson: Ooo, careful, Homer.', '8000', 'TRUE', '1', '2.0', 'Marge Simpson', 'Car', 'Ooo, careful, Homer.', 'ooo careful homer', '3'),\n",
       " (4, '1', '3', \"Homer Simpson: There's no time to be careful.\", '10000', 'TRUE', '2', '2.0', 'Homer Simpson', 'Car', \"There's no time to be careful.\", 'theres no time to be careful', '6'),\n",
       " (5, '1', '4', \"Homer Simpson: We're late.\", '10000', 'TRUE', '2', '2.0', 'Homer Simpson', 'Car', \"We're late.\", 'were late', '2')]"
      ]
     },
     "execution_count": 14,
     "metadata": {},
     "output_type": "execute_result"
    }
   ],
   "source": [
    "engine.execute(\"SELECT * FROM scripts LIMIT 5\").fetchall()"
   ]
  },
  {
   "cell_type": "code",
   "execution_count": 15,
   "metadata": {},
   "outputs": [
    {
     "data": {
      "text/plain": [
       "[(1, 'Street', 'street'),\n",
       " (2, 'Car', 'car'),\n",
       " (3, 'Springfield Elementary School', 'springfield elementary school'),\n",
       " (4, 'Auditorium', 'auditorium'),\n",
       " (5, 'Simpson Home', 'simpson home')]"
      ]
     },
     "execution_count": 15,
     "metadata": {},
     "output_type": "execute_result"
    }
   ],
   "source": [
    "engine.execute(\"SELECT * FROM locations LIMIT 5\").fetchall()"
   ]
  },
  {
   "cell_type": "code",
   "execution_count": 16,
   "metadata": {},
   "outputs": [
    {
     "data": {
      "text/plain": [
       "[(1, 'Marge Simpson', 'marge simpson', 'f'),\n",
       " (2, 'Homer Simpson', 'homer simpson', 'm'),\n",
       " (3, 'Seymour Skinner', 'seymour skinner', 'm'),\n",
       " (4, 'JANEY', 'janey', 'f'),\n",
       " (5, 'Todd Flanders', 'todd flanders', 'm')]"
      ]
     },
     "execution_count": 16,
     "metadata": {},
     "output_type": "execute_result"
    }
   ],
   "source": [
    "engine.execute(\"SELECT * FROM characters LIMIT 5\").fetchall()"
   ]
  },
  {
   "cell_type": "code",
   "execution_count": 17,
   "metadata": {},
   "outputs": [
    {
     "data": {
      "text/plain": [
       "[(1, 'Simpsons Roasting on an Open Fire', '1989-12-17', '7G08', '1', '1', '1', '26.7', '171408.0', '8.2', '3734.0', 'http://static-media.fxx.com/img/FX_Networks_-_FXX/617/479/Simpsons_01_08.jpg', 'http://www.simpsonsworld.com/video/273376835817'),\n",
       " (2, 'Bart the Genius', '1990-01-14', '7G02', '1', '2', '2', '24.5', '91423.0', '7.8', '1973.0', 'http://static-media.fxx.com/img/FX_Networks_-_FXX/265/167/Simpsons_01_02.jpg', 'http://www.simpsonsworld.com/video/283744835990'),\n",
       " (3, \"Homer's Odyssey\", '1990-01-21', '7G03', '1', '3', '3', '27.5', '78072.0', '7.5', '1709.0', 'http://static-media.fxx.com/img/FX_Networks_-_FXX/621/883/Simpsons_01_03.jpg', 'http://www.simpsonsworld.com/video/273381443699'),\n",
       " (4, \"There's No Disgrace Like Home\", '1990-01-28', '7G04', '1', '4', '4', '20.2', '67378.0', '7.8', '1701.0', 'http://static-media.fxx.com/img/FX_Networks_-_FXX/632/119/Simpsons_01_04__343617.jpg', 'http://www.simpsonsworld.com/video/273392195780'),\n",
       " (5, 'Bart the General', '1990-02-04', '7G05', '1', '5', '5', '27.1', '63129.0', '8.1', '1732.0', 'http://static-media.fxx.com/img/FX_Networks_-_FXX/274/735/Simpsons_01_05.jpg', 'http://www.simpsonsworld.com/video/300934723994')]"
      ]
     },
     "execution_count": 17,
     "metadata": {},
     "output_type": "execute_result"
    }
   ],
   "source": [
    "engine.execute(\"SELECT * FROM episodes LIMIT 5\").fetchall()"
   ]
  },
  {
   "cell_type": "code",
   "execution_count": null,
   "metadata": {
    "collapsed": true
   },
   "outputs": [],
   "source": []
  }
 ],
 "metadata": {
  "kernelspec": {
   "display_name": "Python 3",
   "language": "python",
   "name": "python3"
  },
  "language_info": {
   "codemirror_mode": {
    "name": "ipython",
    "version": 3
   },
   "file_extension": ".py",
   "mimetype": "text/x-python",
   "name": "python",
   "nbconvert_exporter": "python",
   "pygments_lexer": "ipython3",
   "version": "3.6.3"
  }
 },
 "nbformat": 4,
 "nbformat_minor": 2
}
