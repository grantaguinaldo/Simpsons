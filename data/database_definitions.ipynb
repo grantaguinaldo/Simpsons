{
 "cells": [
  {
   "cell_type": "code",
   "execution_count": 1,
   "metadata": {
    "collapsed": true
   },
   "outputs": [],
   "source": [
    "import sqlalchemy\n",
    "from sqlalchemy.ext.automap import automap_base\n",
    "from sqlalchemy.orm import Session\n",
    "from sqlalchemy import create_engine, inspect\n",
    "import pandas as pd\n",
    "import numpy as np"
   ]
  },
  {
   "cell_type": "code",
   "execution_count": 2,
   "metadata": {
    "collapsed": true
   },
   "outputs": [],
   "source": [
    "engine = create_engine(\"sqlite:///simpsons_db.sqlite\")\n",
    "Base = automap_base()\n",
    "Base.prepare(engine, reflect=True)\n",
    "inspector = inspect(engine)"
   ]
  },
  {
   "cell_type": "code",
   "execution_count": 3,
   "metadata": {},
   "outputs": [
    {
     "data": {
      "text/plain": [
       "['simpsons_characters',\n",
       " 'simpsons_episodes',\n",
       " 'simpsons_locations',\n",
       " 'simpsons_script_lines']"
      ]
     },
     "execution_count": 3,
     "metadata": {},
     "output_type": "execute_result"
    }
   ],
   "source": [
    "Base.classes.keys()"
   ]
  },
  {
   "cell_type": "code",
   "execution_count": 4,
   "metadata": {},
   "outputs": [
    {
     "data": {
      "text/plain": [
       "['simpsons_characters',\n",
       " 'simpsons_episodes',\n",
       " 'simpsons_locations',\n",
       " 'simpsons_script_lines']"
      ]
     },
     "execution_count": 4,
     "metadata": {},
     "output_type": "execute_result"
    }
   ],
   "source": [
    "inspector.get_table_names()"
   ]
  },
  {
   "cell_type": "code",
   "execution_count": 5,
   "metadata": {},
   "outputs": [
    {
     "name": "stdout",
     "output_type": "stream",
     "text": [
      "id INTEGER\n",
      "name VARCHAR(255)\n",
      "normalized_name VARCHAR(255)\n",
      "gender VARCHAR(255)\n"
     ]
    }
   ],
   "source": [
    "columns = inspector.get_columns('simpsons_characters')\n",
    "for column in columns:\n",
    "    print(column[\"name\"], column[\"type\"])"
   ]
  },
  {
   "cell_type": "code",
   "execution_count": 6,
   "metadata": {},
   "outputs": [
    {
     "name": "stdout",
     "output_type": "stream",
     "text": [
      "id INTEGER\n",
      "title VARCHAR(255)\n",
      "original_air_date VARCHAR(255)\n",
      "production_code VARCHAR(255)\n",
      "season INTEGER\n",
      "number_in_season INTEGER\n",
      "number_in_series INTEGER\n",
      "us_viewers_in_millions FLOAT\n",
      "views INTEGER\n",
      "imdb_rating FLOAT\n",
      "imdb_votes INTEGER\n",
      "image_url VARCHAR(255)\n",
      "video_url VARCHAR(255)\n"
     ]
    }
   ],
   "source": [
    "columns = inspector.get_columns('simpsons_episodes')\n",
    "for column in columns:\n",
    "    print(column[\"name\"], column[\"type\"])"
   ]
  },
  {
   "cell_type": "code",
   "execution_count": 7,
   "metadata": {},
   "outputs": [
    {
     "name": "stdout",
     "output_type": "stream",
     "text": [
      "id INTEGER\n",
      "name VARCHAR(255)\n",
      "normalized_name VARCHAR(255)\n"
     ]
    }
   ],
   "source": [
    "columns = inspector.get_columns('simpsons_locations')\n",
    "for column in columns:\n",
    "    print(column[\"name\"], column[\"type\"])"
   ]
  },
  {
   "cell_type": "code",
   "execution_count": 8,
   "metadata": {},
   "outputs": [
    {
     "name": "stdout",
     "output_type": "stream",
     "text": [
      "id INTEGER\n",
      "episode_id INTEGER\n",
      "number INTEGER\n",
      "raw_text TEXT\n",
      "timestamp_in_ms INTEGER\n",
      "speaking_line BOOLEAN\n",
      "character_id INTEGER\n",
      "location_id INTEGER\n",
      "raw_character_text VARCHAR(255)\n",
      "raw_location_text VARCHAR(255)\n",
      "spoken_words TEXT\n",
      "normalized_text TEXT\n",
      "word_count INTEGER\n"
     ]
    }
   ],
   "source": [
    "columns = inspector.get_columns('simpsons_script_lines')\n",
    "for column in columns:\n",
    "    print(column[\"name\"], column[\"type\"])"
   ]
  },
  {
   "cell_type": "code",
   "execution_count": 9,
   "metadata": {
    "collapsed": true
   },
   "outputs": [],
   "source": [
    "Simpsons_characters = Base.classes.simpsons_characters\n",
    "Simpsons_episodes = Base.classes.simpsons_episodes\n",
    "Simpsons_locations = Base.classes.simpsons_locations\n",
    "Simpsons_script_lines = Base.classes.simpsons_script_lines\n",
    "session = Session(engine)"
   ]
  },
  {
   "cell_type": "code",
   "execution_count": 10,
   "metadata": {},
   "outputs": [
    {
     "data": {
      "text/plain": [
       "{'_sa_instance_state': <sqlalchemy.orm.state.InstanceState at 0x1e5a8146be0>,\n",
       " 'gender': 'f',\n",
       " 'id': 1,\n",
       " 'name': 'Marge Simpson',\n",
       " 'normalized_name': 'marge simpson'}"
      ]
     },
     "execution_count": 10,
     "metadata": {},
     "output_type": "execute_result"
    }
   ],
   "source": [
    "results = session.query(Simpsons_characters).first().__dict__\n",
    "results"
   ]
  },
  {
   "cell_type": "code",
   "execution_count": 11,
   "metadata": {},
   "outputs": [
    {
     "data": {
      "text/plain": [
       "{'_sa_instance_state': <sqlalchemy.orm.state.InstanceState at 0x1e5a65e1e80>,\n",
       " 'id': 1,\n",
       " 'image_url': 'http://static-media.fxx.com/img/FX_Networks_-_FXX/617/479/Simpsons_01_08.jpg',\n",
       " 'imdb_rating': 8.2,\n",
       " 'imdb_votes': 3734,\n",
       " 'number_in_season': 1,\n",
       " 'number_in_series': 1,\n",
       " 'original_air_date': '12/17/1989',\n",
       " 'production_code': '7G08',\n",
       " 'season': 1,\n",
       " 'title': 'Simpsons Roasting on an Open Fire',\n",
       " 'us_viewers_in_millions': 26.7,\n",
       " 'video_url': 'http://www.simpsonsworld.com/video/273376835817',\n",
       " 'views': 171408}"
      ]
     },
     "execution_count": 11,
     "metadata": {},
     "output_type": "execute_result"
    }
   ],
   "source": [
    "results = session.query(Simpsons_episodes).first().__dict__\n",
    "results"
   ]
  },
  {
   "cell_type": "code",
   "execution_count": 12,
   "metadata": {},
   "outputs": [
    {
     "data": {
      "text/plain": [
       "{'_sa_instance_state': <sqlalchemy.orm.state.InstanceState at 0x1e5a8140c88>,\n",
       " 'id': 1,\n",
       " 'name': 'Street',\n",
       " 'normalized_name': 'street'}"
      ]
     },
     "execution_count": 12,
     "metadata": {},
     "output_type": "execute_result"
    }
   ],
   "source": [
    "results = session.query(Simpsons_locations).first().__dict__\n",
    "results"
   ]
  },
  {
   "cell_type": "code",
   "execution_count": 13,
   "metadata": {},
   "outputs": [
    {
     "data": {
      "text/plain": [
       "{'_sa_instance_state': <sqlalchemy.orm.state.InstanceState at 0x1e5a81520b8>,\n",
       " 'character_id': None,\n",
       " 'episode_id': 1,\n",
       " 'id': 1,\n",
       " 'location_id': 1,\n",
       " 'normalized_text': None,\n",
       " 'number': 0,\n",
       " 'raw_character_text': None,\n",
       " 'raw_location_text': 'Street',\n",
       " 'raw_text': '(Street: ext. street - establishing - night)',\n",
       " 'speaking_line': True,\n",
       " 'spoken_words': None,\n",
       " 'timestamp_in_ms': 8000,\n",
       " 'word_count': None}"
      ]
     },
     "execution_count": 13,
     "metadata": {},
     "output_type": "execute_result"
    }
   ],
   "source": [
    "results = session.query(Simpsons_script_lines).first().__dict__\n",
    "results"
   ]
  },
  {
   "cell_type": "code",
   "execution_count": null,
   "metadata": {
    "collapsed": true
   },
   "outputs": [],
   "source": []
  }
 ],
 "metadata": {
  "kernelspec": {
   "display_name": "Python 3",
   "language": "python",
   "name": "python3"
  },
  "language_info": {
   "codemirror_mode": {
    "name": "ipython",
    "version": 3
   },
   "file_extension": ".py",
   "mimetype": "text/x-python",
   "name": "python",
   "nbconvert_exporter": "python",
   "pygments_lexer": "ipython3",
   "version": "3.6.3"
  }
 },
 "nbformat": 4,
 "nbformat_minor": 2
}
