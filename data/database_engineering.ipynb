{
 "cells": [
  {
   "cell_type": "code",
   "execution_count": 1,
   "metadata": {
    "collapsed": true
   },
   "outputs": [],
   "source": [
    "import pandas as pd\n",
    "\n",
    "import sqlalchemy\n",
    "\n",
    "from sqlalchemy import create_engine # connect to the database\n",
    "\n",
    "from sqlalchemy.ext.declarative import declarative_base # abstract classes into tables\n",
    "\n",
    "from sqlalchemy import Column, Integer, String, Float, Text, Boolean # allow us to declare the column types\n",
    "\n",
    "from sqlalchemy.orm import Session"
   ]
  },
  {
   "cell_type": "code",
   "execution_count": 2,
   "metadata": {
    "collapsed": true
   },
   "outputs": [],
   "source": [
    "import pymysql\n",
    "pymysql.install_as_MySQLdb()"
   ]
  },
  {
   "cell_type": "code",
   "execution_count": 3,
   "metadata": {},
   "outputs": [
    {
     "name": "stderr",
     "output_type": "stream",
     "text": [
      "C:\\Users\\Victor\\AppData\\Local\\conda\\conda\\envs\\PythonData\\lib\\site-packages\\IPython\\core\\interactiveshell.py:2698: DtypeWarning: Columns (4,5,6) have mixed types. Specify dtype option on import or set low_memory=False.\n",
      "  interactivity=interactivity, compiler=compiler, result=result)\n"
     ]
    }
   ],
   "source": [
    "simpsons_characters = pd.read_csv('simpsons_characters.csv')\n",
    "simpsons_episodes = pd.read_csv('simpsons_episodes.csv')\n",
    "simpsons_locations = pd.read_csv('simpsons_locations.csv')\n",
    "simpsons_script_lines = pd.read_csv('simpsons_script_lines.csv')"
   ]
  },
  {
   "cell_type": "code",
   "execution_count": 4,
   "metadata": {
    "collapsed": true
   },
   "outputs": [],
   "source": [
    "engine = create_engine(\"sqlite:///simpsons_db.sqlite\")\n",
    "conn = engine.connect()\n",
    "Base = declarative_base() # an object that utilizes the default for declarative base"
   ]
  },
  {
   "cell_type": "code",
   "execution_count": 5,
   "metadata": {
    "collapsed": true
   },
   "outputs": [],
   "source": [
    "class Simpsons_characters(Base):\n",
    "    __tablename__ = \"simpsons_characters\"\n",
    "    id = Column(Integer, primary_key = True)\n",
    "    name = Column(String(255))\n",
    "    normalized_name = Column(String(255))\n",
    "    gender = Column(String(255))\n",
    "    \n",
    "class Simpsons_episodes(Base):\n",
    "    __tablename__ = \"simpsons_episodes\"\n",
    "    id = Column(Integer, primary_key = True)\n",
    "    title = Column(String(255))\n",
    "    original_air_date = Column(String(255))\n",
    "    production_code = Column(String(255))\n",
    "    season = Column(Integer)\n",
    "    number_in_season = Column(Integer)\n",
    "    number_in_series = Column(Integer)\n",
    "    us_viewers_in_millions = Column(Float)\n",
    "    views = Column(Integer)\n",
    "    imdb_rating = Column(Float)\n",
    "    imdb_votes = Column(Integer)\n",
    "    image_url = Column(String(255))\n",
    "    video_url = Column(String(255))\n",
    "    \n",
    "class Simpsons_locations(Base):\n",
    "    __tablename__ = \"simpsons_locations\"\n",
    "    id = Column(Integer, primary_key = True)\n",
    "    name = Column(String(255))\n",
    "    normalized_name = Column(String(255))\n",
    "    \n",
    "class Simpsons_script_lines(Base):\n",
    "    __tablename__ = \"simpsons_script_lines\"\n",
    "    id = Column(Integer, primary_key = True)\n",
    "    episode_id = Column(Integer)\n",
    "    number = Column(Integer)\n",
    "    raw_text = Column(Text)\n",
    "    timestamp_in_ms = Column(Integer)\n",
    "    speaking_line = Column(Boolean)\n",
    "    character_id = Column(Integer)\n",
    "    location_id = Column(Integer)\n",
    "    raw_character_text = Column(String(255))\n",
    "    raw_location_text = Column(String(255))\n",
    "    spoken_words = Column(Text)\n",
    "    normalized_text = Column(Text)\n",
    "    word_count = Column(Integer)"
   ]
  },
  {
   "cell_type": "code",
   "execution_count": 6,
   "metadata": {
    "collapsed": true
   },
   "outputs": [],
   "source": [
    "character_list = simpsons_characters.to_dict(orient='records')\n",
    "episode_list = simpsons_episodes.to_dict(orient='records')\n",
    "location_list = simpsons_locations.to_dict(orient='records')\n",
    "script_line_list = simpsons_script_lines.to_dict(orient='records')"
   ]
  },
  {
   "cell_type": "code",
   "execution_count": 7,
   "metadata": {},
   "outputs": [
    {
     "name": "stderr",
     "output_type": "stream",
     "text": [
      "C:\\Users\\Victor\\AppData\\Local\\conda\\conda\\envs\\PythonData\\lib\\site-packages\\ipykernel_launcher.py:2: SADeprecationWarning: reflect=True is deprecate; please use the reflect() method.\n",
      "  \n"
     ]
    }
   ],
   "source": [
    "Base.metadata.create_all(engine)\n",
    "metadata = sqlalchemy.schema.MetaData(bind=engine,reflect=True)\n",
    "character_table = sqlalchemy.Table(\"simpsons_characters\", metadata, autoload=True)\n",
    "episode_table = sqlalchemy.Table(\"simpsons_episodes\", metadata, autoload=True)\n",
    "location_table = sqlalchemy.Table(\"simpsons_locations\", metadata, autoload=True)\n",
    "script_line_table = sqlalchemy.Table(\"simpsons_script_lines\", metadata, autoload=True)\n",
    "session = Session(bind=engine)"
   ]
  },
  {
   "cell_type": "code",
   "execution_count": 8,
   "metadata": {
    "collapsed": true
   },
   "outputs": [],
   "source": [
    "conn.execute(character_table.insert(), character_list)\n",
    "conn.execute(episode_table.insert(), episode_list)\n",
    "conn.execute(location_table.insert(), location_list)\n",
    "conn.execute(script_line_table.insert(), script_line_list)\n",
    "session.commit()"
   ]
  },
  {
   "cell_type": "code",
   "execution_count": 9,
   "metadata": {
    "collapsed": true
   },
   "outputs": [],
   "source": [
    "session.close()"
   ]
  },
  {
   "cell_type": "code",
   "execution_count": null,
   "metadata": {
    "collapsed": true
   },
   "outputs": [],
   "source": []
  }
 ],
 "metadata": {
  "kernelspec": {
   "display_name": "Python 3",
   "language": "python",
   "name": "python3"
  },
  "language_info": {
   "codemirror_mode": {
    "name": "ipython",
    "version": 3
   },
   "file_extension": ".py",
   "mimetype": "text/x-python",
   "name": "python",
   "nbconvert_exporter": "python",
   "pygments_lexer": "ipython3",
   "version": "3.6.3"
  }
 },
 "nbformat": 4,
 "nbformat_minor": 2
}
