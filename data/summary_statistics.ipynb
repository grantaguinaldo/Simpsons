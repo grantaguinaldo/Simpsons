{
 "cells": [
  {
   "cell_type": "code",
   "execution_count": 1,
   "metadata": {
    "collapsed": true
   },
   "outputs": [],
   "source": [
    "import sqlalchemy\n",
    "from sqlalchemy.ext.automap import automap_base\n",
    "from sqlalchemy.orm import Session\n",
    "from sqlalchemy import create_engine, inspect\n",
    "from sqlalchemy import func\n",
    "import pandas as pd\n",
    "import numpy as np"
   ]
  },
  {
   "cell_type": "code",
   "execution_count": 2,
   "metadata": {
    "collapsed": true
   },
   "outputs": [],
   "source": [
    "engine = create_engine(\"sqlite:///simpsons_db.sqlite\")\n",
    "conn = engine.connect()\n",
    "Base = automap_base()\n",
    "Base.prepare(engine, reflect=True)\n",
    "inspector = inspect(engine)\n",
    "Simpsons_characters = Base.classes.simpsons_characters\n",
    "Simpsons_episodes = Base.classes.simpsons_episodes\n",
    "Simpsons_locations = Base.classes.simpsons_locations\n",
    "Simpsons_script_lines = Base.classes.simpsons_script_lines\n",
    "session = Session(engine)"
   ]
  },
  {
   "cell_type": "markdown",
   "metadata": {},
   "source": [
    "Total Number of Characters"
   ]
  },
  {
   "cell_type": "code",
   "execution_count": 3,
   "metadata": {},
   "outputs": [
    {
     "data": {
      "text/plain": [
       "6722"
      ]
     },
     "execution_count": 3,
     "metadata": {},
     "output_type": "execute_result"
    }
   ],
   "source": [
    "conn.execute(\"select count(*) from simpsons_characters\").first()[0]"
   ]
  },
  {
   "cell_type": "code",
   "execution_count": 4,
   "metadata": {},
   "outputs": [
    {
     "data": {
      "text/plain": [
       "6722"
      ]
     },
     "execution_count": 4,
     "metadata": {},
     "output_type": "execute_result"
    }
   ],
   "source": [
    "queryExpression = session.query(Simpsons_characters).count()\n",
    "queryExpression"
   ]
  },
  {
   "cell_type": "markdown",
   "metadata": {},
   "source": [
    "Total Number of Male Characters"
   ]
  },
  {
   "cell_type": "code",
   "execution_count": 5,
   "metadata": {},
   "outputs": [
    {
     "data": {
      "text/plain": [
       "252"
      ]
     },
     "execution_count": 5,
     "metadata": {},
     "output_type": "execute_result"
    }
   ],
   "source": [
    "conn.execute(\"select count(*) from simpsons_characters where gender = 'm'\").first()[0]"
   ]
  },
  {
   "cell_type": "code",
   "execution_count": 6,
   "metadata": {},
   "outputs": [
    {
     "data": {
      "text/plain": [
       "252"
      ]
     },
     "execution_count": 6,
     "metadata": {},
     "output_type": "execute_result"
    }
   ],
   "source": [
    "queryExpression = session.query(Simpsons_characters).filter_by(gender = 'm').count()\n",
    "queryExpression"
   ]
  },
  {
   "cell_type": "markdown",
   "metadata": {},
   "source": [
    "Total Number of Female Characters"
   ]
  },
  {
   "cell_type": "code",
   "execution_count": 7,
   "metadata": {},
   "outputs": [
    {
     "data": {
      "text/plain": [
       "71"
      ]
     },
     "execution_count": 7,
     "metadata": {},
     "output_type": "execute_result"
    }
   ],
   "source": [
    "conn.execute(\"select count(*) from simpsons_characters where gender = 'f'\").first()[0]"
   ]
  },
  {
   "cell_type": "code",
   "execution_count": 8,
   "metadata": {},
   "outputs": [
    {
     "data": {
      "text/plain": [
       "71"
      ]
     },
     "execution_count": 8,
     "metadata": {},
     "output_type": "execute_result"
    }
   ],
   "source": [
    "queryExpression = session.query(Simpsons_characters).filter_by(gender = 'f').count()\n",
    "queryExpression"
   ]
  },
  {
   "cell_type": "code",
   "execution_count": null,
   "metadata": {
    "collapsed": true
   },
   "outputs": [],
   "source": [
    "Total Number of Unknown Gender Characters"
   ]
  },
  {
   "cell_type": "code",
   "execution_count": 9,
   "metadata": {},
   "outputs": [
    {
     "data": {
      "text/plain": [
       "6399"
      ]
     },
     "execution_count": 9,
     "metadata": {},
     "output_type": "execute_result"
    }
   ],
   "source": [
    "conn.execute(\"select count(*) from simpsons_characters where gender is null\").first()[0]"
   ]
  },
  {
   "cell_type": "code",
   "execution_count": 10,
   "metadata": {},
   "outputs": [
    {
     "data": {
      "text/plain": [
       "6399"
      ]
     },
     "execution_count": 10,
     "metadata": {},
     "output_type": "execute_result"
    }
   ],
   "source": [
    "queryExpression = session.query(Simpsons_characters).filter_by(gender = None).count()\n",
    "queryExpression"
   ]
  },
  {
   "cell_type": "markdown",
   "metadata": {},
   "source": [
    "Total Number of Locations"
   ]
  },
  {
   "cell_type": "code",
   "execution_count": 11,
   "metadata": {},
   "outputs": [
    {
     "data": {
      "text/plain": [
       "4459"
      ]
     },
     "execution_count": 11,
     "metadata": {},
     "output_type": "execute_result"
    }
   ],
   "source": [
    "conn.execute(\"select count(*) from simpsons_locations\").first()[0]"
   ]
  },
  {
   "cell_type": "code",
   "execution_count": 12,
   "metadata": {},
   "outputs": [
    {
     "data": {
      "text/plain": [
       "4459"
      ]
     },
     "execution_count": 12,
     "metadata": {},
     "output_type": "execute_result"
    }
   ],
   "source": [
    "queryExpression = session.query(Simpsons_locations).count()\n",
    "queryExpression"
   ]
  },
  {
   "cell_type": "markdown",
   "metadata": {},
   "source": [
    "Total Number of Episodes"
   ]
  },
  {
   "cell_type": "code",
   "execution_count": 13,
   "metadata": {},
   "outputs": [
    {
     "data": {
      "text/plain": [
       "600"
      ]
     },
     "execution_count": 13,
     "metadata": {},
     "output_type": "execute_result"
    }
   ],
   "source": [
    "conn.execute(\"select count(*) from simpsons_episodes\").first()[0]"
   ]
  },
  {
   "cell_type": "code",
   "execution_count": 14,
   "metadata": {},
   "outputs": [
    {
     "data": {
      "text/plain": [
       "600"
      ]
     },
     "execution_count": 14,
     "metadata": {},
     "output_type": "execute_result"
    }
   ],
   "source": [
    "queryExpression = session.query(Simpsons_episodes).count()\n",
    "queryExpression"
   ]
  },
  {
   "cell_type": "code",
   "execution_count": null,
   "metadata": {
    "collapsed": true
   },
   "outputs": [],
   "source": [
    "Total Number of Seasons"
   ]
  },
  {
   "cell_type": "code",
   "execution_count": 15,
   "metadata": {},
   "outputs": [
    {
     "data": {
      "text/plain": [
       "28"
      ]
     },
     "execution_count": 15,
     "metadata": {},
     "output_type": "execute_result"
    }
   ],
   "source": [
    "conn.execute(\"select max(season) from simpsons_episodes\").first()[0]"
   ]
  },
  {
   "cell_type": "code",
   "execution_count": 18,
   "metadata": {},
   "outputs": [
    {
     "data": {
      "text/plain": [
       "28"
      ]
     },
     "execution_count": 18,
     "metadata": {},
     "output_type": "execute_result"
    }
   ],
   "source": [
    "queryExpression = session.query(func.max(Simpsons_episodes.season)).first()[0]\n",
    "queryExpression"
   ]
  },
  {
   "cell_type": "markdown",
   "metadata": {},
   "source": [
    "Most Episodes in a Season"
   ]
  },
  {
   "cell_type": "code",
   "execution_count": 19,
   "metadata": {},
   "outputs": [
    {
     "data": {
      "text/plain": [
       "25"
      ]
     },
     "execution_count": 19,
     "metadata": {},
     "output_type": "execute_result"
    }
   ],
   "source": [
    "conn.execute(\"select max(number_in_season) from simpsons_episodes\").first()[0]"
   ]
  },
  {
   "cell_type": "code",
   "execution_count": 20,
   "metadata": {},
   "outputs": [
    {
     "data": {
      "text/plain": [
       "25"
      ]
     },
     "execution_count": 20,
     "metadata": {},
     "output_type": "execute_result"
    }
   ],
   "source": [
    "queryExpression = session.query(func.max(Simpsons_episodes.number_in_season)).first()[0]\n",
    "queryExpression"
   ]
  },
  {
   "cell_type": "markdown",
   "metadata": {},
   "source": [
    "Top 10 Episodes With Most US Viewers"
   ]
  },
  {
   "cell_type": "code",
   "execution_count": 21,
   "metadata": {},
   "outputs": [
    {
     "data": {
      "text/plain": [
       "[('Bart Gets an \"F\"', 33.6),\n",
       " ('Life on the Fast Lane', 33.5),\n",
       " ('The Crepes of Wrath', 31.2),\n",
       " ('Krusty Gets Busted', 30.4),\n",
       " (\"Homer's Night Out\", 30.3),\n",
       " ('Simpson and Delilah', 29.9),\n",
       " (\"Lisa's First Word\", 28.6),\n",
       " ('The Telltale Head', 28.0),\n",
       " ('The Call of the Simpsons', 27.6),\n",
       " (\"Homer's Odyssey\", 27.5)]"
      ]
     },
     "execution_count": 21,
     "metadata": {},
     "output_type": "execute_result"
    }
   ],
   "source": [
    "conn.execute(\"select title, us_viewers_in_millions from simpsons_episodes order by us_viewers_in_millions desc limit 10\").fetchall()"
   ]
  },
  {
   "cell_type": "code",
   "execution_count": 23,
   "metadata": {},
   "outputs": [
    {
     "data": {
      "text/plain": [
       "[('Bart Gets an \"F\"', 33.6),\n",
       " ('Life on the Fast Lane', 33.5),\n",
       " ('The Crepes of Wrath', 31.2),\n",
       " ('Krusty Gets Busted', 30.4),\n",
       " (\"Homer's Night Out\", 30.3),\n",
       " ('Simpson and Delilah', 29.9),\n",
       " (\"Lisa's First Word\", 28.6),\n",
       " ('The Telltale Head', 28.0),\n",
       " ('The Call of the Simpsons', 27.6),\n",
       " (\"Homer's Odyssey\", 27.5)]"
      ]
     },
     "execution_count": 23,
     "metadata": {},
     "output_type": "execute_result"
    }
   ],
   "source": [
    "queryExpression = session.query(Simpsons_episodes.title, Simpsons_episodes.us_viewers_in_millions).order_by(Simpsons_episodes.us_viewers_in_millions.desc()).limit(10).all()\n",
    "queryExpression"
   ]
  },
  {
   "cell_type": "markdown",
   "metadata": {},
   "source": [
    "Top 10 Episodes With Most Views"
   ]
  },
  {
   "cell_type": "code",
   "execution_count": 24,
   "metadata": {},
   "outputs": [
    {
     "data": {
      "text/plain": [
       "[('Simpsons Roasting on an Open Fire', 171408),\n",
       " ('Treehouse of Horror', 130282),\n",
       " ('Treehouse of Horror V', 119295),\n",
       " ('Treehouse of Horror VI', 110342),\n",
       " ('Treehouse of Horror IV', 110251),\n",
       " ('Treehouse of Horror III', 108171),\n",
       " ('Treehouse of Horror II', 103012),\n",
       " ('Treehouse of Horror VII', 102077),\n",
       " ('Bart the Genius', 91423),\n",
       " ('Marge vs. the Monorail', 88171)]"
      ]
     },
     "execution_count": 24,
     "metadata": {},
     "output_type": "execute_result"
    }
   ],
   "source": [
    "conn.execute(\"select title, views from simpsons_episodes order by views desc limit 10\").fetchall()"
   ]
  },
  {
   "cell_type": "code",
   "execution_count": 25,
   "metadata": {},
   "outputs": [
    {
     "data": {
      "text/plain": [
       "[('Simpsons Roasting on an Open Fire', 171408),\n",
       " ('Treehouse of Horror', 130282),\n",
       " ('Treehouse of Horror V', 119295),\n",
       " ('Treehouse of Horror VI', 110342),\n",
       " ('Treehouse of Horror IV', 110251),\n",
       " ('Treehouse of Horror III', 108171),\n",
       " ('Treehouse of Horror II', 103012),\n",
       " ('Treehouse of Horror VII', 102077),\n",
       " ('Bart the Genius', 91423),\n",
       " ('Marge vs. the Monorail', 88171)]"
      ]
     },
     "execution_count": 25,
     "metadata": {},
     "output_type": "execute_result"
    }
   ],
   "source": [
    "queryExpression = session.query(Simpsons_episodes.title, Simpsons_episodes.views).order_by(Simpsons_episodes.views.desc()).limit(10).all()\n",
    "queryExpression"
   ]
  },
  {
   "cell_type": "markdown",
   "metadata": {},
   "source": [
    "Top 10 Episodes With Highest IMDB Rating"
   ]
  },
  {
   "cell_type": "code",
   "execution_count": 26,
   "metadata": {},
   "outputs": [
    {
     "data": {
      "text/plain": [
       "[('You Only Move Twice', 9.2),\n",
       " (\"Homer's Enemy\", 9.2),\n",
       " ('Who Shot Mr. Burns? (Part One)', 9.1),\n",
       " ('The City of New York vs. Homer Simpson', 9.1),\n",
       " ('Homer the Heretic', 9.0),\n",
       " ('Marge vs. the Monorail', 9.0),\n",
       " ('Last Exit to Springfield', 9.0),\n",
       " ('Cape Feare', 9.0),\n",
       " ('Treehouse of Horror V', 9.0),\n",
       " ('Homer Badman', 9.0)]"
      ]
     },
     "execution_count": 26,
     "metadata": {},
     "output_type": "execute_result"
    }
   ],
   "source": [
    "conn.execute(\"select title, imdb_rating from simpsons_episodes order by imdb_rating desc limit 10\").fetchall()"
   ]
  },
  {
   "cell_type": "code",
   "execution_count": 27,
   "metadata": {},
   "outputs": [
    {
     "data": {
      "text/plain": [
       "[('You Only Move Twice', 9.2),\n",
       " (\"Homer's Enemy\", 9.2),\n",
       " ('Who Shot Mr. Burns? (Part One)', 9.1),\n",
       " ('The City of New York vs. Homer Simpson', 9.1),\n",
       " ('Homer the Heretic', 9.0),\n",
       " ('Marge vs. the Monorail', 9.0),\n",
       " ('Last Exit to Springfield', 9.0),\n",
       " ('Cape Feare', 9.0),\n",
       " ('Treehouse of Horror V', 9.0),\n",
       " ('Homer Badman', 9.0)]"
      ]
     },
     "execution_count": 27,
     "metadata": {},
     "output_type": "execute_result"
    }
   ],
   "source": [
    "queryExpression = session.query(Simpsons_episodes.title, Simpsons_episodes.imdb_rating).order_by(Simpsons_episodes.imdb_rating.desc()).limit(10).all()\n",
    "queryExpression"
   ]
  },
  {
   "cell_type": "markdown",
   "metadata": {
    "collapsed": true
   },
   "source": [
    "Top 10 Episodes With Most IMDB Votes"
   ]
  },
  {
   "cell_type": "code",
   "execution_count": 28,
   "metadata": {},
   "outputs": [
    {
     "data": {
      "text/plain": [
       "[('Simpsons Roasting on an Open Fire', 3734),\n",
       " ('You Only Move Twice', 2439),\n",
       " (\"Homer's Enemy\", 2256),\n",
       " ('Marge vs. the Monorail', 2028),\n",
       " ('Cape Feare', 2010),\n",
       " ('Bart the Genius', 1973),\n",
       " ('The City of New York vs. Homer Simpson', 1918),\n",
       " ('Last Exit to Springfield', 1827),\n",
       " ('Stark Raving Dad', 1798),\n",
       " ('The Springfield Files', 1793)]"
      ]
     },
     "execution_count": 28,
     "metadata": {},
     "output_type": "execute_result"
    }
   ],
   "source": [
    "conn.execute(\"select title, imdb_votes from simpsons_episodes order by imdb_votes desc limit 10\").fetchall()"
   ]
  },
  {
   "cell_type": "code",
   "execution_count": 29,
   "metadata": {},
   "outputs": [
    {
     "data": {
      "text/plain": [
       "[('Simpsons Roasting on an Open Fire', 3734),\n",
       " ('You Only Move Twice', 2439),\n",
       " (\"Homer's Enemy\", 2256),\n",
       " ('Marge vs. the Monorail', 2028),\n",
       " ('Cape Feare', 2010),\n",
       " ('Bart the Genius', 1973),\n",
       " ('The City of New York vs. Homer Simpson', 1918),\n",
       " ('Last Exit to Springfield', 1827),\n",
       " ('Stark Raving Dad', 1798),\n",
       " ('The Springfield Files', 1793)]"
      ]
     },
     "execution_count": 29,
     "metadata": {},
     "output_type": "execute_result"
    }
   ],
   "source": [
    "queryExpression = session.query(Simpsons_episodes.title, Simpsons_episodes.imdb_votes).order_by(Simpsons_episodes.imdb_votes.desc()).limit(10).all()\n",
    "queryExpression"
   ]
  },
  {
   "cell_type": "code",
   "execution_count": 1,
   "metadata": {},
   "outputs": [
    {
     "ename": "NameError",
     "evalue": "name 'session' is not defined",
     "output_type": "error",
     "traceback": [
      "\u001b[1;31m---------------------------------------------------------------------------\u001b[0m",
      "\u001b[1;31mNameError\u001b[0m                                 Traceback (most recent call last)",
      "\u001b[1;32m<ipython-input-1-862842504493>\u001b[0m in \u001b[0;36m<module>\u001b[1;34m()\u001b[0m\n\u001b[1;32m----> 1\u001b[1;33m \u001b[0mqueryExpression\u001b[0m \u001b[1;33m=\u001b[0m \u001b[0msession\u001b[0m\u001b[1;33m.\u001b[0m\u001b[0mquery\u001b[0m\u001b[1;33m(\u001b[0m\u001b[0mSimpsons_episodes\u001b[0m\u001b[1;33m.\u001b[0m\u001b[0mtitle\u001b[0m\u001b[1;33m,\u001b[0m \u001b[0mSimpsons_episodes\u001b[0m\u001b[1;33m.\u001b[0m\u001b[0mimdb_votes\u001b[0m\u001b[1;33m)\u001b[0m\u001b[1;33m.\u001b[0m\u001b[0morder_by\u001b[0m\u001b[1;33m(\u001b[0m\u001b[0mSimpsons_episodes\u001b[0m\u001b[1;33m.\u001b[0m\u001b[0mimdb_votes\u001b[0m\u001b[1;33m.\u001b[0m\u001b[0mdesc\u001b[0m\u001b[1;33m(\u001b[0m\u001b[1;33m)\u001b[0m\u001b[1;33m)\u001b[0m\u001b[1;33m.\u001b[0m\u001b[0mlimit\u001b[0m\u001b[1;33m(\u001b[0m\u001b[1;36m10\u001b[0m\u001b[1;33m)\u001b[0m\u001b[1;33m.\u001b[0m\u001b[0mall\u001b[0m\u001b[1;33m(\u001b[0m\u001b[1;33m)\u001b[0m\u001b[1;33m\u001b[0m\u001b[0m\n\u001b[0m\u001b[0;32m      2\u001b[0m \u001b[0mqueryExpression\u001b[0m\u001b[1;33m\u001b[0m\u001b[0m\n",
      "\u001b[1;31mNameError\u001b[0m: name 'session' is not defined"
     ]
    }
   ],
   "source": [
    "queryExpression = session.query(Simpsons_script_lines.raw_character_text, Simpsons_episodes.imdb_votes).limit(10).all()\n",
    "queryExpression"
   ]
  },
  {
   "cell_type": "code",
   "execution_count": null,
   "metadata": {
    "collapsed": true
   },
   "outputs": [],
   "source": []
  }
 ],
 "metadata": {
  "kernelspec": {
   "display_name": "Python 3",
   "language": "python",
   "name": "python3"
  },
  "language_info": {
   "codemirror_mode": {
    "name": "ipython",
    "version": 3
   },
   "file_extension": ".py",
   "mimetype": "text/x-python",
   "name": "python",
   "nbconvert_exporter": "python",
   "pygments_lexer": "ipython3",
   "version": "3.6.3"
  }
 },
 "nbformat": 4,
 "nbformat_minor": 2
}
