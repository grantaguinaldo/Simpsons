{
 "cells": [
  {
   "cell_type": "code",
   "execution_count": null,
   "metadata": {
    "collapsed": true
   },
   "outputs": [],
   "source": [
    "!rm simpsons.sqlite\n",
    "import pandas as pd\n",
    "import sqlalchemy\n",
    "from sqlalchemy import create_engine, MetaData\n",
    "from sqlalchemy.ext.declarative import declarative_base\n",
    "from sqlalchemy import Column, String, Integer, Float, Text"
   ]
  },
  {
   "cell_type": "code",
   "execution_count": null,
   "metadata": {
    "collapsed": true
   },
   "outputs": [],
   "source": [
    "url = '/Users/gta/Desktop/simpsonsSQL/simpsons_script_lines.csv'\n",
    "url_characters = '/Users/gta/Desktop/simpsonsSQL/simpsons_characters.csv'\n",
    "url_locations = '/Users/gta/Desktop/simpsonsSQL/simpsons_locations.csv'\n",
    "url_episodes = '/Users/gta/Desktop/simpsonsSQL/simpsons_episodes.csv'"
   ]
  },
  {
   "cell_type": "code",
   "execution_count": null,
   "metadata": {},
   "outputs": [],
   "source": [
    "df_script = pd.read_csv(url, low_memory=False)\n",
    "df_characters = pd.read_csv(url_characters)\n",
    "df_locations = pd.read_csv(url_locations)\n",
    "df_episodes = pd.read_csv(url_episodes)"
   ]
  },
  {
   "cell_type": "code",
   "execution_count": null,
   "metadata": {},
   "outputs": [],
   "source": [
    "df_script.columns.tolist()"
   ]
  },
  {
   "cell_type": "code",
   "execution_count": null,
   "metadata": {},
   "outputs": [],
   "source": [
    "df_characters.columns.tolist()"
   ]
  },
  {
   "cell_type": "code",
   "execution_count": null,
   "metadata": {},
   "outputs": [],
   "source": [
    "df_locations.columns.tolist()"
   ]
  },
  {
   "cell_type": "code",
   "execution_count": null,
   "metadata": {},
   "outputs": [],
   "source": [
    "df_episodes.columns.tolist()"
   ]
  },
  {
   "cell_type": "code",
   "execution_count": null,
   "metadata": {},
   "outputs": [],
   "source": [
    "engine = create_engine(\"sqlite:///simpsons.sqlite\")\n",
    "Base = declarative_base(bind=engine)"
   ]
  },
  {
   "cell_type": "code",
   "execution_count": null,
   "metadata": {},
   "outputs": [],
   "source": [
    "class Scripts(Base):\n",
    "    __tablename__ = 'scripts'    \n",
    "    id = Column(Integer, primary_key=True)\n",
    "    episode_id = Column(Text)\n",
    "    number = Column(Text)\n",
    "    raw_text = Column(Text)\n",
    "    timestamp_in_ms = Column(Text)\n",
    "    speaking_line = Column(Text)\n",
    "    character_id = Column(Text)\n",
    "    location_id = Column(Text)\n",
    "    raw_character_text = Column(Text)\n",
    "    raw_location_text = Column(Text)\n",
    "    spoken_words = Column(Text)\n",
    "    normalized_text = Column(Text)\n",
    "    word_count = Column(Text)\n",
    "\n",
    "class Characters(Base):\n",
    "    __tablename__ = 'characters'\n",
    "    id = Column(Integer, primary_key=True)\n",
    "    name = Column(Text)\n",
    "    normalized_name = Column(Text)\n",
    "    gender = Column(Text)\n",
    "    \n",
    "class Locations(Base):\n",
    "    __tablename__ = 'locations'\n",
    "    id = Column(Integer, primary_key=True)\n",
    "    name = Column(Text)\n",
    "    normalized_name = Column(Text)\n",
    "    \n",
    "class Episodes(Base):\n",
    "    __tablename__ = 'episodes'\n",
    "    id = Column(Integer, primary_key=True)\n",
    "    title = Column(Text)\n",
    "    original_air_date = Column(Text)\n",
    "    production_code = Column(Text)\n",
    "    season = Column(Text)\n",
    "    number_in_season = Column(Text)\n",
    "    number_in_series = Column(Text)\n",
    "    us_viewers_in_millions = Column(Text)\n",
    "    views = Column(Text)\n",
    "    imdb_rating = Column(Text)\n",
    "    imdb_votes = Column(Text)\n",
    "    image_url = Column(Text)\n",
    "    video_url = Column(Text)"
   ]
  },
  {
   "cell_type": "code",
   "execution_count": null,
   "metadata": {
    "collapsed": true
   },
   "outputs": [],
   "source": [
    "Base.metadata.create_all()"
   ]
  },
  {
   "cell_type": "code",
   "execution_count": null,
   "metadata": {},
   "outputs": [],
   "source": [
    "script_dict = df_script.to_dict(orient='records')\n",
    "location_dict = df_locations.to_dict(orient='records')\n",
    "character_dict = df_characters.to_dict(orient='records')\n",
    "episode_dict = df_episodes.to_dict(orient='records')"
   ]
  },
  {
   "cell_type": "code",
   "execution_count": null,
   "metadata": {
    "collapsed": true
   },
   "outputs": [],
   "source": [
    "metadata = MetaData(bind=engine)\n",
    "metadata.reflect()"
   ]
  },
  {
   "cell_type": "code",
   "execution_count": null,
   "metadata": {},
   "outputs": [],
   "source": [
    "script_table = sqlalchemy.Table('scripts', metadata, autoload=True)\n",
    "engine.execute(script_table.delete())\n",
    "engine.execute(script_table.insert(), script_dict)\n",
    "\n",
    "location_table = sqlalchemy.Table('locations', metadata, autoload=True)\n",
    "engine.execute(location_table.delete())\n",
    "engine.execute(location_table.insert(), location_dict)\n",
    "\n",
    "character_table = sqlalchemy.Table('characters', metadata, autoload=True)\n",
    "engine.execute(character_table.delete())\n",
    "engine.execute(character_table.insert(), character_dict)\n",
    "\n",
    "episode_table = sqlalchemy.Table('episodes', metadata, autoload=True)\n",
    "engine.execute(episode_table.delete())\n",
    "engine.execute(episode_table.insert(), episode_dict)"
   ]
  },
  {
   "cell_type": "code",
   "execution_count": null,
   "metadata": {},
   "outputs": [],
   "source": [
    "engine.execute(\"SELECT * FROM scripts LIMIT 5\").fetchall()"
   ]
  },
  {
   "cell_type": "code",
   "execution_count": null,
   "metadata": {},
   "outputs": [],
   "source": [
    "engine.execute(\"SELECT * FROM locations LIMIT 5\").fetchall()"
   ]
  },
  {
   "cell_type": "code",
   "execution_count": null,
   "metadata": {},
   "outputs": [],
   "source": [
    "engine.execute(\"SELECT * FROM episodes LIMIT 5\").fetchall()"
   ]
  },
  {
   "cell_type": "code",
   "execution_count": null,
   "metadata": {},
   "outputs": [],
   "source": [
    "engine.execute(\"SELECT * FROM characters LIMIT 5\").fetchall()"
   ]
  }
 ],
 "metadata": {
  "kernelspec": {
   "display_name": "Python 3",
   "language": "python",
   "name": "python3"
  },
  "language_info": {
   "codemirror_mode": {
    "name": "ipython",
    "version": 3
   },
   "file_extension": ".py",
   "mimetype": "text/x-python",
   "name": "python",
   "nbconvert_exporter": "python",
   "pygments_lexer": "ipython3",
   "version": "3.6.3"
  }
 },
 "nbformat": 4,
 "nbformat_minor": 2
}
